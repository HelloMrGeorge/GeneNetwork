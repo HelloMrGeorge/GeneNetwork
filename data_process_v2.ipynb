{
 "cells": [
  {
   "cell_type": "code",
   "execution_count": 1,
   "metadata": {},
   "outputs": [],
   "source": [
    "import pandas as pd\n",
    "import numpy as np"
   ]
  },
  {
   "cell_type": "code",
   "execution_count": 2,
   "metadata": {},
   "outputs": [],
   "source": [
    "data = pd.read_csv('train.csv')\n",
    "data.Age = data.Age.fillna(data.Age.mean())"
   ]
  },
  {
   "cell_type": "code",
   "execution_count": 6,
   "metadata": {},
   "outputs": [],
   "source": [
    "Pclass = (data.Pclass - 2).to_numpy()\n",
    "Sex = data.Sex.map(lambda x: 1 if x == 'male' else -1).to_numpy()\n",
    "\n",
    "Age = data.Age.to_numpy()\n",
    "Age = (Age - Age.mean()) / Age.std()\n",
    "\n",
    "Alone = data.SibSp.to_numpy() + data.Parch.to_numpy()\n",
    "Alone = np.where(Alone != 0, 1, -1)"
   ]
  },
  {
   "cell_type": "code",
   "execution_count": 8,
   "metadata": {},
   "outputs": [
    {
     "data": {
      "text/plain": [
       "array([[ 1.00000000e+00,  0.00000000e+00,  1.00000000e+00, ...,\n",
       "        -5.92480600e-01,  1.00000000e+00, -5.02445171e-01],\n",
       "       [ 2.00000000e+00,  1.00000000e+00, -1.00000000e+00, ...,\n",
       "         6.38789012e-01,  1.00000000e+00,  7.86845294e-01],\n",
       "       [ 3.00000000e+00,  1.00000000e+00,  1.00000000e+00, ...,\n",
       "        -2.84663197e-01, -1.00000000e+00, -4.88854258e-01],\n",
       "       ...,\n",
       "       [ 8.89000000e+02,  0.00000000e+00,  1.00000000e+00, ...,\n",
       "         0.00000000e+00,  1.00000000e+00, -1.76263239e-01],\n",
       "       [ 8.90000000e+02,  1.00000000e+00, -1.00000000e+00, ...,\n",
       "        -2.84663197e-01, -1.00000000e+00, -4.43810379e-02],\n",
       "       [ 8.91000000e+02,  0.00000000e+00,  1.00000000e+00, ...,\n",
       "         1.77062908e-01, -1.00000000e+00, -4.92377828e-01]])"
      ]
     },
     "execution_count": 8,
     "metadata": {},
     "output_type": "execute_result"
    }
   ],
   "source": [
    "Fare = data.Fare.to_numpy()\n",
    "Fare = (Fare - Fare.mean()) / Fare.std()\n",
    "\n",
    "PassengerId = data.PassengerId.to_numpy()\n",
    "Survived = data.Survived.to_numpy()\n",
    "arr_data = np.column_stack((PassengerId, Survived, Pclass, Sex, Age, Alone, Fare))\n",
    "arr_data"
   ]
  },
  {
   "cell_type": "code",
   "execution_count": 9,
   "metadata": {},
   "outputs": [],
   "source": [
    "rng = np.random.default_rng(12345)\n",
    "random_indices = rng.choice(arr_data.shape[0], 100, replace=False)\n",
    "test_data = arr_data[random_indices, :]\n",
    "train_data = np.delete(arr_data, random_indices, axis=0)"
   ]
  },
  {
   "cell_type": "code",
   "execution_count": 10,
   "metadata": {},
   "outputs": [],
   "source": [
    "np.save('train_data.npy', train_data)\n",
    "np.save('test_data.npy', test_data)"
   ]
  }
 ],
 "metadata": {
  "kernelspec": {
   "display_name": "genenet",
   "language": "python",
   "name": "python3"
  },
  "language_info": {
   "codemirror_mode": {
    "name": "ipython",
    "version": 3
   },
   "file_extension": ".py",
   "mimetype": "text/x-python",
   "name": "python",
   "nbconvert_exporter": "python",
   "pygments_lexer": "ipython3",
   "version": "3.12.4"
  }
 },
 "nbformat": 4,
 "nbformat_minor": 2
}
